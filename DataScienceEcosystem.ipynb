{
  "cells": [
    {
      "cell_type": "markdown",
      "metadata": {},
      "source": [
        "# Data Science Tools and Ecosystem"
      ]
    },
    {
      "cell_type": "markdown",
      "metadata": {},
      "source": [
        "In this notebook, Data Science Tools and Ecosystem are summarized."
      ]
    },
    {
      "cell_type": "markdown",
      "metadata": {},
      "source": [
        "Some of the popular languages that Data Scientists use are:"
      ]
    },
    {
      "cell_type": "code",
      "execution_count": null,
      "metadata": {
        "trusted": true
      },
      "outputs": [],
      "source": [
        "# Lista de lenguajes comúnmente usados en ciencia de datos\n",
        "lenguajes = [\"Python\", \"R\", \"SQL\", \"Julia\", \"Scala\"]\n",
        "\n",
        "# Mostrar como lista numerada\n",
        "for i, lenguaje in enumerate(lenguajes, start=1):\n",
        "    print(f\"{i}. {lenguaje}\")\n"
      ]
    },
    {
      "cell_type": "markdown",
      "metadata": {},
      "source": [
        "Some of the commonly used libraries used by Data Scientists include:"
      ]
    },
    {
      "cell_type": "markdown",
      "metadata": {},
      "source": [
        "# Lista de bibliotecas comunes para Ciencia de Datos"
      ]
    },
    {
      "cell_type": "code",
      "execution_count": null,
      "metadata": {
        "trusted": true
      },
      "outputs": [],
      "source": [
        "bibliotecas = [\"NumPy\", \"Pandas\", \"Matplotlib\", \"Scikit-learn\", \"TensorFlow\"]\n",
        "\n",
        "print(\"\\nBibliotecas comunes para Ciencia de Datos:\")\n",
        "for i, biblioteca in enumerate(bibliotecas, start=1):\n",
        "    print(f\"{i}. {biblioteca}\")"
      ]
    },
    {
      "cell_type": "markdown",
      "metadata": {},
      "source": [
        "# Data Science Tools\n",
        "\n",
        "| Data Science Tools      |\n",
        "|--------------------------|\n",
        "| Jupyter Notebook         |\n",
        "| RStudio                  |\n",
        "| Apache Zeppelin          |\n"
      ]
    },
    {
      "cell_type": "markdown",
      "metadata": {},
      "source": [
        "### Below are a few examples of evaluating arithmetic expressions in Python."
      ]
    },
    {
      "cell_type": "code",
      "execution_count": null,
      "metadata": {
        "trusted": true
      },
      "outputs": [],
      "source": [
        "- `3 + 5` → Suma de 3 y 5 (resultado: 8)\n",
        "- `10 - 4` → Resta de 10 menos 4 (resultado: 6)\n",
        "- `7 * 6` → Multiplicación de 7 por 6 (resultado: 42)\n",
        "- `8 / 2` → División de 8 entre 2 (resultado: 4.0)\n",
        "- `2 ** 3` → Potencia de 2 elevado a 3 (resultado: 8)\n",
        "- `15 % 4` → Módulo de 15 dividido entre 4 (resultado: 3)\n"
      ]
    },
    {
      "cell_type": "code",
      "execution_count": 1,
      "metadata": {
        "trusted": true
      },
      "outputs": [
        {
          "data": {
            "text/plain": [
              "17"
            ]
          },
          "execution_count": 1,
          "metadata": {},
          "output_type": "execute_result"
        }
      ],
      "source": [
        "# This is a simple arithmetic expression to multiply then add integers.\n",
        "(3 * 4) + 5"
      ]
    },
    {
      "cell_type": "code",
      "execution_count": 2,
      "metadata": {
        "trusted": true
      },
      "outputs": [
        {
          "data": {
            "text/plain": [
              "3.3333333333333335"
            ]
          },
          "execution_count": 2,
          "metadata": {},
          "output_type": "execute_result"
        }
      ],
      "source": [
        "# This will convert 200 minutes to hours by dividing by 60.\n",
        "200 / 60"
      ]
    },
    {
      "cell_type": "markdown",
      "metadata": {
        "editable": true,
        "slideshow": {
          "slide_type": ""
        },
        "tags": []
      },
      "source": [
        "**Objectives:**\n",
        "\n",
        "- List popular languages.\n",
        "- Demonstrate the use of arithmetic expressions Python.\n",
        "- Convert minutes to hours using a simple arithmetic operation.\n",
        "- Create tables, lists using Markdown.\n",
        "- Learn about open-source tools commonly used in Data Science.\n"
      ]
    },
    {
      "cell_type": "markdown",
      "metadata": {},
      "source": [
        "## Author\n",
        "\n",
        "Laura Gomez Gomez"
      ]
    }
  ],
  "metadata": {
    "kernelspec": {
      "display_name": "Python (Pyodide)",
      "language": "python",
      "name": "python"
    },
    "language_info": {
      "codemirror_mode": {
        "name": "python",
        "version": 3
      },
      "file_extension": ".py",
      "mimetype": "text/x-python",
      "name": "python",
      "nbconvert_exporter": "python",
      "pygments_lexer": "ipython3",
      "version": "3.8"
    }
  },
  "nbformat": 4,
  "nbformat_minor": 4
}
